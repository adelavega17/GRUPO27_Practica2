{
  "nbformat": 4,
  "nbformat_minor": 0,
  "metadata": {
    "colab": {
      "provenance": []
    },
    "kernelspec": {
      "name": "python3",
      "display_name": "Python 3"
    },
    "language_info": {
      "name": "python"
    }
  },
  "cells": [
    {
      "cell_type": "markdown",
      "source": [
        "## Drive Gaston"
      ],
      "metadata": {
        "id": "-4bg3zVeCtv5"
      }
    },
    {
      "cell_type": "code",
      "execution_count": null,
      "metadata": {
        "colab": {
          "base_uri": "https://localhost:8080/",
          "height": 381
        },
        "id": "_uQAnEBgBu6T",
        "outputId": "63b40851-7fcc-4960-9272-3d109e89d5f3"
      },
      "outputs": [
        {
          "output_type": "error",
          "ename": "MessageError",
          "evalue": "ignored",
          "traceback": [
            "\u001b[0;31m---------------------------------------------------------------------------\u001b[0m",
            "\u001b[0;31mMessageError\u001b[0m                              Traceback (most recent call last)",
            "\u001b[0;32m<ipython-input-1-9606bcc2a556>\u001b[0m in \u001b[0;36m<cell line: 3>\u001b[0;34m()\u001b[0m\n\u001b[1;32m      1\u001b[0m \u001b[0;31m# mount drive Gastón\u001b[0m\u001b[0;34m\u001b[0m\u001b[0;34m\u001b[0m\u001b[0m\n\u001b[1;32m      2\u001b[0m \u001b[0;32mfrom\u001b[0m \u001b[0mgoogle\u001b[0m\u001b[0;34m.\u001b[0m\u001b[0mcolab\u001b[0m \u001b[0;32mimport\u001b[0m \u001b[0mdrive\u001b[0m\u001b[0;34m\u001b[0m\u001b[0;34m\u001b[0m\u001b[0m\n\u001b[0;32m----> 3\u001b[0;31m \u001b[0mdrive\u001b[0m\u001b[0;34m.\u001b[0m\u001b[0mmount\u001b[0m\u001b[0;34m(\u001b[0m\u001b[0;34m'/content/drive/'\u001b[0m\u001b[0;34m,\u001b[0m \u001b[0mforce_remount\u001b[0m\u001b[0;34m=\u001b[0m\u001b[0;32mTrue\u001b[0m\u001b[0;34m)\u001b[0m\u001b[0;34m\u001b[0m\u001b[0;34m\u001b[0m\u001b[0m\n\u001b[0m\u001b[1;32m      4\u001b[0m \u001b[0;34m\u001b[0m\u001b[0m\n\u001b[1;32m      5\u001b[0m \u001b[0;31m# Abrir el path concreto\u001b[0m\u001b[0;34m\u001b[0m\u001b[0;34m\u001b[0m\u001b[0m\n",
            "\u001b[0;32m/usr/local/lib/python3.10/dist-packages/google/colab/drive.py\u001b[0m in \u001b[0;36mmount\u001b[0;34m(mountpoint, force_remount, timeout_ms, readonly)\u001b[0m\n\u001b[1;32m    101\u001b[0m \u001b[0;32mdef\u001b[0m \u001b[0mmount\u001b[0m\u001b[0;34m(\u001b[0m\u001b[0mmountpoint\u001b[0m\u001b[0;34m,\u001b[0m \u001b[0mforce_remount\u001b[0m\u001b[0;34m=\u001b[0m\u001b[0;32mFalse\u001b[0m\u001b[0;34m,\u001b[0m \u001b[0mtimeout_ms\u001b[0m\u001b[0;34m=\u001b[0m\u001b[0;36m120000\u001b[0m\u001b[0;34m,\u001b[0m \u001b[0mreadonly\u001b[0m\u001b[0;34m=\u001b[0m\u001b[0;32mFalse\u001b[0m\u001b[0;34m)\u001b[0m\u001b[0;34m:\u001b[0m\u001b[0;34m\u001b[0m\u001b[0;34m\u001b[0m\u001b[0m\n\u001b[1;32m    102\u001b[0m   \u001b[0;34m\"\"\"Mount your Google Drive at the specified mountpoint path.\"\"\"\u001b[0m\u001b[0;34m\u001b[0m\u001b[0;34m\u001b[0m\u001b[0m\n\u001b[0;32m--> 103\u001b[0;31m   return _mount(\n\u001b[0m\u001b[1;32m    104\u001b[0m       \u001b[0mmountpoint\u001b[0m\u001b[0;34m,\u001b[0m\u001b[0;34m\u001b[0m\u001b[0;34m\u001b[0m\u001b[0m\n\u001b[1;32m    105\u001b[0m       \u001b[0mforce_remount\u001b[0m\u001b[0;34m=\u001b[0m\u001b[0mforce_remount\u001b[0m\u001b[0;34m,\u001b[0m\u001b[0;34m\u001b[0m\u001b[0;34m\u001b[0m\u001b[0m\n",
            "\u001b[0;32m/usr/local/lib/python3.10/dist-packages/google/colab/drive.py\u001b[0m in \u001b[0;36m_mount\u001b[0;34m(mountpoint, force_remount, timeout_ms, ephemeral, readonly)\u001b[0m\n\u001b[1;32m    130\u001b[0m   )\n\u001b[1;32m    131\u001b[0m   \u001b[0;32mif\u001b[0m \u001b[0mephemeral\u001b[0m\u001b[0;34m:\u001b[0m\u001b[0;34m\u001b[0m\u001b[0;34m\u001b[0m\u001b[0m\n\u001b[0;32m--> 132\u001b[0;31m     _message.blocking_request(\n\u001b[0m\u001b[1;32m    133\u001b[0m         \u001b[0;34m'request_auth'\u001b[0m\u001b[0;34m,\u001b[0m \u001b[0mrequest\u001b[0m\u001b[0;34m=\u001b[0m\u001b[0;34m{\u001b[0m\u001b[0;34m'authType'\u001b[0m\u001b[0;34m:\u001b[0m \u001b[0;34m'dfs_ephemeral'\u001b[0m\u001b[0;34m}\u001b[0m\u001b[0;34m,\u001b[0m \u001b[0mtimeout_sec\u001b[0m\u001b[0;34m=\u001b[0m\u001b[0;32mNone\u001b[0m\u001b[0;34m\u001b[0m\u001b[0;34m\u001b[0m\u001b[0m\n\u001b[1;32m    134\u001b[0m     )\n",
            "\u001b[0;32m/usr/local/lib/python3.10/dist-packages/google/colab/_message.py\u001b[0m in \u001b[0;36mblocking_request\u001b[0;34m(request_type, request, timeout_sec, parent)\u001b[0m\n\u001b[1;32m    174\u001b[0m       \u001b[0mrequest_type\u001b[0m\u001b[0;34m,\u001b[0m \u001b[0mrequest\u001b[0m\u001b[0;34m,\u001b[0m \u001b[0mparent\u001b[0m\u001b[0;34m=\u001b[0m\u001b[0mparent\u001b[0m\u001b[0;34m,\u001b[0m \u001b[0mexpect_reply\u001b[0m\u001b[0;34m=\u001b[0m\u001b[0;32mTrue\u001b[0m\u001b[0;34m\u001b[0m\u001b[0;34m\u001b[0m\u001b[0m\n\u001b[1;32m    175\u001b[0m   )\n\u001b[0;32m--> 176\u001b[0;31m   \u001b[0;32mreturn\u001b[0m \u001b[0mread_reply_from_input\u001b[0m\u001b[0;34m(\u001b[0m\u001b[0mrequest_id\u001b[0m\u001b[0;34m,\u001b[0m \u001b[0mtimeout_sec\u001b[0m\u001b[0;34m)\u001b[0m\u001b[0;34m\u001b[0m\u001b[0;34m\u001b[0m\u001b[0m\n\u001b[0m",
            "\u001b[0;32m/usr/local/lib/python3.10/dist-packages/google/colab/_message.py\u001b[0m in \u001b[0;36mread_reply_from_input\u001b[0;34m(message_id, timeout_sec)\u001b[0m\n\u001b[1;32m    101\u001b[0m     ):\n\u001b[1;32m    102\u001b[0m       \u001b[0;32mif\u001b[0m \u001b[0;34m'error'\u001b[0m \u001b[0;32min\u001b[0m \u001b[0mreply\u001b[0m\u001b[0;34m:\u001b[0m\u001b[0;34m\u001b[0m\u001b[0;34m\u001b[0m\u001b[0m\n\u001b[0;32m--> 103\u001b[0;31m         \u001b[0;32mraise\u001b[0m \u001b[0mMessageError\u001b[0m\u001b[0;34m(\u001b[0m\u001b[0mreply\u001b[0m\u001b[0;34m[\u001b[0m\u001b[0;34m'error'\u001b[0m\u001b[0;34m]\u001b[0m\u001b[0;34m)\u001b[0m\u001b[0;34m\u001b[0m\u001b[0;34m\u001b[0m\u001b[0m\n\u001b[0m\u001b[1;32m    104\u001b[0m       \u001b[0;32mreturn\u001b[0m \u001b[0mreply\u001b[0m\u001b[0;34m.\u001b[0m\u001b[0mget\u001b[0m\u001b[0;34m(\u001b[0m\u001b[0;34m'data'\u001b[0m\u001b[0;34m,\u001b[0m \u001b[0;32mNone\u001b[0m\u001b[0;34m)\u001b[0m\u001b[0;34m\u001b[0m\u001b[0;34m\u001b[0m\u001b[0m\n\u001b[1;32m    105\u001b[0m \u001b[0;34m\u001b[0m\u001b[0m\n",
            "\u001b[0;31mMessageError\u001b[0m: Error: credential propagation was unsuccessful"
          ]
        }
      ],
      "source": [
        "# mount drive Gastón\n",
        "from google.colab import drive\n",
        "drive.mount('/content/drive/', force_remount=True)\n",
        "\n",
        "# Abrir el path concreto\n",
        "#Insert here your own path. \n",
        "!ls\n",
        "%cd \"/content/drive/MyDrive/Aprendizaje\"\n",
        "!ls"
      ]
    },
    {
      "cell_type": "markdown",
      "source": [
        "## Ruta .pkl Gaston"
      ],
      "metadata": {
        "id": "P3DqPhfjDtw3"
      }
    },
    {
      "cell_type": "code",
      "source": [
        "import pickle\n",
        "\n",
        "with open('/content/drive/MyDrive/Aprendizaje/attrition_available_27.pkl', 'rb') as file:\n",
        "    datos = pickle.load(file)\n"
      ],
      "metadata": {
        "id": "Up19bfSnDTKr"
      },
      "execution_count": null,
      "outputs": []
    },
    {
      "cell_type": "markdown",
      "source": [
        "# Abrir datos Adela"
      ],
      "metadata": {
        "id": "-lnNrhoLnz5C"
      }
    },
    {
      "cell_type": "code",
      "source": [
        "# mount drive Gastón\n",
        "from google.colab import drive\n",
        "drive.mount('/content/drive/', force_remount=True)\n",
        "\n",
        "# Abrir el path concreto\n",
        "#Insert here your own path. \n",
        "!ls\n",
        "%cd \"/content/drive/MyDrive/6-2-C/AA/P2/Data\"\n",
        "!ls\n",
        "\n",
        "import pickle\n",
        "\n",
        "with open('/content/drive/MyDrive/6-2-C/AA/P2/Data/attrition_available_27.pkl', 'rb') as file:\n",
        "    datos = pickle.load(file)\n"
      ],
      "metadata": {
        "colab": {
          "base_uri": "https://localhost:8080/"
        },
        "id": "A-8OYykZn5Ao",
        "outputId": "21cd3626-361b-4a18-d650-a029c46e7d32"
      },
      "execution_count": null,
      "outputs": [
        {
          "output_type": "stream",
          "name": "stdout",
          "text": [
            "Mounted at /content/drive/\n",
            "drive  sample_data\n",
            "/content/drive/MyDrive/6-2-C/AA/P2/Data\n",
            "attrition_available_27.pkl\n"
          ]
        }
      ]
    },
    {
      "cell_type": "markdown",
      "source": [
        "# Examinar Datos\n",
        "\n",
        "Al tratarse de un **.pkl** no podemos saber de primeras que tipo de datos son, por tanto obtenemos mediante la siguiente función que su tipo corresponde a un Dataframe de dimensiones [4410 rows x 31 columns]"
      ],
      "metadata": {
        "id": "cyZN3SQ_E1A3"
      }
    },
    {
      "cell_type": "code",
      "source": [
        "print(\"Tipo de objeto:\", type(datos))\n",
        "print(\"Contenido del objeto:\\n\", datos)\n"
      ],
      "metadata": {
        "colab": {
          "base_uri": "https://localhost:8080/"
        },
        "id": "-KT-iyacEhtM",
        "outputId": "e9c0e526-aadc-44ed-e112-845d03e82fd8"
      },
      "execution_count": null,
      "outputs": [
        {
          "output_type": "stream",
          "name": "stdout",
          "text": [
            "Tipo de objeto: <class 'pandas.core.frame.DataFrame'>\n",
            "Contenido del objeto:\n",
            "            hrs  absences  JobInvolvement  PerformanceRating  \\\n",
            "1     7.315971      13.0             2.0                4.0   \n",
            "6     6.450877      17.0             3.0                4.0   \n",
            "13    8.871421      14.0             2.0                3.0   \n",
            "28         NaN       6.0             2.0                3.0   \n",
            "30    9.662808      11.0             2.0                3.0   \n",
            "...        ...       ...             ...                ...   \n",
            "4405  8.316921       6.0             3.0                3.0   \n",
            "4406  5.897197       NaN             2.0                3.0   \n",
            "4407       NaN      18.0             3.0                4.0   \n",
            "4408  9.187612       NaN             2.0                3.0   \n",
            "4409  6.511790      17.0             4.0                3.0   \n",
            "\n",
            "      EnvironmentSatisfaction  JobSatisfaction  WorkLifeBalance   Age  \\\n",
            "1                         3.0              2.0              4.0  31.0   \n",
            "6                         1.0              3.0              1.0   NaN   \n",
            "13                        1.0              2.0              2.0   NaN   \n",
            "28                        4.0              3.0              1.0  44.0   \n",
            "30                        1.0              2.0              3.0  26.0   \n",
            "...                       ...              ...              ...   ...   \n",
            "4405                      4.0              1.0              3.0  42.0   \n",
            "4406                      4.0              4.0              3.0  29.0   \n",
            "4407                      1.0              3.0              3.0  25.0   \n",
            "4408                      4.0              1.0              NaN  42.0   \n",
            "4409                      NaN              3.0              NaN   NaN   \n",
            "\n",
            "     Attrition     BusinessTravel  ... NumCompaniesWorked  Over18  \\\n",
            "1          Yes  Travel_Frequently  ...                0.0       Y   \n",
            "6          Yes      Travel_Rarely  ...                2.0       Y   \n",
            "13         Yes         Non-Travel  ...                NaN       Y   \n",
            "28         Yes  Travel_Frequently  ...                NaN       Y   \n",
            "30         Yes                NaN  ...                2.0     NaN   \n",
            "...        ...                ...  ...                ...     ...   \n",
            "4405        No      Travel_Rarely  ...                NaN       Y   \n",
            "4406        No      Travel_Rarely  ...                2.0       Y   \n",
            "4407        No      Travel_Rarely  ...                0.0       Y   \n",
            "4408        No      Travel_Rarely  ...                0.0       Y   \n",
            "4409        No      Travel_Rarely  ...                NaN       Y   \n",
            "\n",
            "      PercentSalaryHike StandardHours  StockOptionLevel  TotalWorkingYears  \\\n",
            "1                  23.0             8               NaN                6.0   \n",
            "6                  20.0             8               1.0                5.0   \n",
            "13                 11.0             8               2.0               10.0   \n",
            "28                 14.0             8               1.0               19.0   \n",
            "30                 11.0             8               0.0                NaN   \n",
            "...                 ...           ...               ...                ...   \n",
            "4405               17.0             8               1.0               10.0   \n",
            "4406               15.0             8               0.0                NaN   \n",
            "4407                NaN             8               0.0                NaN   \n",
            "4408               14.0             8               NaN               10.0   \n",
            "4409               12.0             8               NaN                NaN   \n",
            "\n",
            "     TrainingTimesLastYear  YearsAtCompany YearsSinceLastPromotion  \\\n",
            "1                      NaN             NaN                       1   \n",
            "6                      2.0             0.0                       0   \n",
            "13                     4.0            10.0                       9   \n",
            "28                     2.0             1.0                       0   \n",
            "30                     5.0             3.0                       0   \n",
            "...                    ...             ...                     ...   \n",
            "4405                   5.0             NaN                       0   \n",
            "4406                   2.0             3.0                       0   \n",
            "4407                   4.0             NaN                       1   \n",
            "4408                   2.0             9.0                       7   \n",
            "4409                   6.0            21.0                       3   \n",
            "\n",
            "     YearsWithCurrManager  \n",
            "1                     4.0  \n",
            "6                     0.0  \n",
            "13                    9.0  \n",
            "28                    0.0  \n",
            "30                    2.0  \n",
            "...                   ...  \n",
            "4405                  2.0  \n",
            "4406                  NaN  \n",
            "4407                  NaN  \n",
            "4408                  8.0  \n",
            "4409                  9.0  \n",
            "\n",
            "[4410 rows x 31 columns]\n"
          ]
        }
      ]
    },
    {
      "cell_type": "markdown",
      "source": [
        "### EDA del Dataframe"
      ],
      "metadata": {
        "id": "EAwjiUNUFYXU"
      }
    },
    {
      "cell_type": "markdown",
      "source": [
        "En primer lugar y con el objetivo de seguir la estructura del enunciado realizaremos el análisis sobre el número de instancias y atributos"
      ],
      "metadata": {
        "id": "5O9D-qLtGAKq"
      }
    },
    {
      "cell_type": "code",
      "source": [
        "print(\"Número de instancias:\", datos.shape[0])\n",
        "print(\"Número de atributos:\", datos.shape[1])\n"
      ],
      "metadata": {
        "colab": {
          "base_uri": "https://localhost:8080/"
        },
        "id": "UU_NRB3-FX5x",
        "outputId": "7bc6309c-8868-445b-acc1-a1ed3dd9ca6e"
      },
      "execution_count": null,
      "outputs": [
        {
          "output_type": "stream",
          "name": "stdout",
          "text": [
            "Número de instancias: 4410\n",
            "Número de atributos: 31\n"
          ]
        }
      ]
    },
    {
      "cell_type": "markdown",
      "source": [
        "En este caso, el DataFrame tiene 4,410 instancias y 31 atributos:\n",
        "\n",
        "* 4,410 instancias (filas) representan 4,410 empleados individuales en el conjunto de datos.\n",
        "\n",
        "* 31 atributos (columnas) representan las características de cada empleado, como horas trabajadas, satisfacción laboral, edad, etc."
      ],
      "metadata": {
        "id": "w7qVJ79HGlHf"
      }
    },
    {
      "cell_type": "code",
      "source": [
        "print(\"Tipos de atributos:\")\n",
        "print(datos.dtypes)"
      ],
      "metadata": {
        "colab": {
          "base_uri": "https://localhost:8080/"
        },
        "id": "_LUQI5rvGtY3",
        "outputId": "ad49b765-05e4-4a5a-a12b-3ff94af57a0c"
      },
      "execution_count": null,
      "outputs": [
        {
          "output_type": "stream",
          "name": "stdout",
          "text": [
            "Tipos de atributos:\n",
            "hrs                        float64\n",
            "absences                   float64\n",
            "JobInvolvement             float64\n",
            "PerformanceRating          float64\n",
            "EnvironmentSatisfaction    float64\n",
            "JobSatisfaction            float64\n",
            "WorkLifeBalance            float64\n",
            "Age                        float64\n",
            "Attrition                   object\n",
            "BusinessTravel              object\n",
            "Department                  object\n",
            "DistanceFromHome           float64\n",
            "Education                  float64\n",
            "EducationField              object\n",
            "EmployeeCount              float64\n",
            "EmployeeID                 float64\n",
            "Gender                      object\n",
            "JobLevel                   float64\n",
            "JobRole                     object\n",
            "MaritalStatus               object\n",
            "MonthlyIncome              float64\n",
            "NumCompaniesWorked         float64\n",
            "Over18                      object\n",
            "PercentSalaryHike          float64\n",
            "StandardHours                int64\n",
            "StockOptionLevel           float64\n",
            "TotalWorkingYears          float64\n",
            "TrainingTimesLastYear      float64\n",
            "YearsAtCompany             float64\n",
            "YearsSinceLastPromotion      int64\n",
            "YearsWithCurrManager       float64\n",
            "dtype: object\n"
          ]
        }
      ]
    },
    {
      "cell_type": "markdown",
      "source": [
        "* **float64**: representa números de punto flotante (decimales), es decir, variables numéricas continuas. Por ejemplo, *hrs, absences, Age, MonthlyIncome, etc*.\n",
        "* **int64**: representa números enteros, es decir, variables numéricas discretas. En este caso, hay dos columnas con este tipo de datos: *StandardHours y YearsSinceLastPromotion.*\n",
        "* **object**: representa variables categóricas o de texto. Estas columnas contienen información en forma de texto o categorías, como *Attrition, BusinessTravel, Department, EducationField, Gender, JobRole, MaritalStatus y Over18.*\n",
        "\n",
        "Conocer los tipos de atributos es útil para determinar qué técnicas de preprocesamiento aplicar a cada columna antes de entrenar un modelo de aprendizaje automático. Por ejemplo, las variables categóricas generalmente requieren ser transformadas en variables numéricas (a través de codificación one-hot, codificación ordinal, etc.) antes de utilizarlas en un modelo de aprendizaje automático. Además, las variables numéricas pueden requerir escalado o normalización dependiendo del algoritmo que se vaya a utilizar.\n",
        "\n",
        "\n",
        "**Estudio de columnas constantes/innecesarias**"
      ],
      "metadata": {
        "id": "s9y3zvWAG17p"
      }
    },
    {
      "cell_type": "code",
      "source": [
        "columnas_constantes = [col for col in datos.columns if datos[col].nunique() <= 1]\n",
        "print(\"Columnas constantes o innecesarias:\", columnas_constantes)"
      ],
      "metadata": {
        "colab": {
          "base_uri": "https://localhost:8080/"
        },
        "id": "TK9UxnzrHhti",
        "outputId": "a011220b-25b9-4ac1-de66-213b4ca626fd"
      },
      "execution_count": null,
      "outputs": [
        {
          "output_type": "stream",
          "name": "stdout",
          "text": [
            "Columnas constantes o innecesarias: ['EmployeeCount', 'Over18', 'StandardHours']\n"
          ]
        }
      ]
    },
    {
      "cell_type": "markdown",
      "source": [
        "Las columnas constantes o innecesarias son aquellas que tienen el mismo valor para todas las instancias o que no proporcionan información útil para el análisis o la construcción del modelo de aprendizaje automático.\n",
        "\n",
        "En este caso, se han identificado las siguientes columnas como constantes o innecesarias:\n",
        "\n",
        "* '**EmployeeCount**': Esta columna tiene el mismo valor para todos los empleados. No proporciona información útil para predecir la atrición de los empleados, ya que no hay variabilidad en sus datos.\n",
        "\n",
        "* '**Over18**': Esta columna indica si el empleado tiene más de 18 años de edad. Si todos los empleados tienen más de 18 años, entonces esta columna no aporta información útil para predecir la atrición de los empleados, ya que todos los empleados cumplen con este criterio.\n",
        "\n",
        "* '**StandardHours**': Si todas las instancias tienen el mismo valor para las horas estándar, entonces no hay variabilidad en esta columna, y no aporta información útil para predecir la atrición de los empleados."
      ],
      "metadata": {
        "id": "SOWFTHrRH1AY"
      }
    },
    {
      "cell_type": "code",
      "source": [
        "#PROCEDEMOS A ELIMINAR LAS COLUMNAS\n",
        "datos = datos.drop(['EmployeeCount', 'Over18', 'StandardHours'], axis=1)\n"
      ],
      "metadata": {
        "id": "NZ5D1vSnH_T3"
      },
      "execution_count": null,
      "outputs": []
    },
    {
      "cell_type": "code",
      "source": [
        "#-------------------------------------------------\n",
        "#Miramos la proporcion de missing values por atributo\n",
        "\n",
        "print(\"Proporción de missing values por atributo:\")\n",
        "print(datos.isnull().sum() / datos.shape[0]*100)"
      ],
      "metadata": {
        "colab": {
          "base_uri": "https://localhost:8080/"
        },
        "id": "Y5BUNThpIG0h",
        "outputId": "ed7194e7-b2d4-4840-c45d-871d6298719b"
      },
      "execution_count": null,
      "outputs": [
        {
          "output_type": "stream",
          "name": "stdout",
          "text": [
            "Proporción de missing values por atributo:\n",
            "hrs                        20.521542\n",
            "absences                   20.204082\n",
            "JobInvolvement             16.281179\n",
            "PerformanceRating          20.839002\n",
            "EnvironmentSatisfaction    19.931973\n",
            "JobSatisfaction            21.496599\n",
            "WorkLifeBalance            17.437642\n",
            "Age                        16.689342\n",
            "Attrition                   0.000000\n",
            "BusinessTravel             19.251701\n",
            "Department                 17.732426\n",
            "DistanceFromHome           16.938776\n",
            "Education                  16.213152\n",
            "EducationField             16.099773\n",
            "EmployeeID                 18.049887\n",
            "Gender                     21.133787\n",
            "JobLevel                   17.732426\n",
            "JobRole                    17.732426\n",
            "MaritalStatus               0.000000\n",
            "MonthlyIncome              21.065760\n",
            "NumCompaniesWorked         21.224490\n",
            "PercentSalaryHike          17.868481\n",
            "StockOptionLevel           16.054422\n",
            "TotalWorkingYears          20.362812\n",
            "TrainingTimesLastYear      20.113379\n",
            "YearsAtCompany             21.678005\n",
            "YearsSinceLastPromotion     0.000000\n",
            "YearsWithCurrManager       20.294785\n",
            "dtype: float64\n"
          ]
        }
      ]
    },
    {
      "cell_type": "markdown",
      "source": [
        "Dado que ningún atributo presenta una proporción de *missing values* mayor al 80% no se procede a eliminar ninguno de los atributos"
      ],
      "metadata": {
        "id": "NczQhhfHKFQt"
      }
    },
    {
      "cell_type": "markdown",
      "source": [
        "## Tipo de problema (clasificación o regresión):\n",
        "\n",
        "Dado que el objetivo es predecir si los empleados abandonarán la empresa, es un problema de clasificación binaria.\n",
        "\n",
        "Otra información que afirma este hecho es la presencia de la variable objetivo Attrition la cual presenta un valor categórico ['Yes', 'No']"
      ],
      "metadata": {
        "id": "oLoWCw2pKd9N"
      }
    },
    {
      "cell_type": "code",
      "source": [
        "proporcion_clases = datos['Attrition'].value_counts(normalize=True)\n",
        "print(\"Proporción de clases:\\n\", proporcion_clases)\n"
      ],
      "metadata": {
        "colab": {
          "base_uri": "https://localhost:8080/"
        },
        "id": "YMlcUUbWKL5D",
        "outputId": "2c8d71b6-fc0b-4d5a-f304-573948a526d7"
      },
      "execution_count": null,
      "outputs": [
        {
          "output_type": "stream",
          "name": "stdout",
          "text": [
            "Proporción de clases:\n",
            " No     0.838776\n",
            "Yes    0.161224\n",
            "Name: Attrition, dtype: float64\n"
          ]
        }
      ]
    },
    {
      "cell_type": "markdown",
      "source": [
        "En este caso, la proporción de clases para la columna 'Attrition' es la siguiente:\n",
        "\n",
        "* No (empleados que no abandonaron la empresa): 83.88%\n",
        "* Yes (empleados que abandonaron la empresa): 16.12%\n",
        "\n",
        "La diferencia en la proporción de clases indica que el conjunto de datos es desbalanceado. La clase \"Yes\" está subrepresentada en comparación con la clase \"No\"."
      ],
      "metadata": {
        "id": "Xs2bMfPsK0fg"
      }
    },
    {
      "cell_type": "markdown",
      "source": [
        "Añadir texto sobre tecnica de undersampling, oversampling etc"
      ],
      "metadata": {
        "id": "rEtzhsOjK-z8"
      }
    },
    {
      "cell_type": "code",
      "source": [
        "import pandas as pd\n",
        "import numpy as np\n",
        "from sklearn.model_selection import train_test_split, GridSearchCV\n",
        "from sklearn.metrics import balanced_accuracy_score, f1_score, confusion_matrix"
      ],
      "metadata": {
        "id": "aD56UXfSLhFZ"
      },
      "execution_count": null,
      "outputs": []
    },
    {
      "cell_type": "markdown",
      "source": [
        "## Texto sobre las métricas\n",
        "\n",
        "\n",
        "\n",
        "* La métrica de **balanced_accuracy** (precisión equilibrada) es una medida que tiene en cuenta el desbalanceo de clases, calculando la precisión por cada clase y luego promediándolas. Es útil cuando las proporciones de las clases son desiguales, ya que proporciona una visión más justa del rendimiento del modelo en comparación con la precisión estándar.\n",
        "\n",
        "* El **F1 score** es otra métrica que combina la precisión y la exhaustividad (recall) en un solo valor. Es especialmente útil cuando las clases están desbalanceadas, ya que da igual importancia a la precisión y a la exhaustividad, lo que significa que penaliza más los falsos positivos y falsos negativos que la precisión estándar.\n",
        "\n",
        "* La **matriz de confusión** es una tabla que muestra la cantidad de verdaderos positivos, verdaderos negativos, falsos positivos y falsos negativos que se produjeron en la clasificación. Es útil para visualizar el rendimiento del modelo y obtener información sobre las clases que se clasificaron incorrectamente."
      ],
      "metadata": {
        "id": "-zO-8FLSMb2y"
      }
    },
    {
      "cell_type": "markdown",
      "source": [
        "## Realizamos la partición"
      ],
      "metadata": {
        "id": "OSr2UKjLLlvh"
      }
    },
    {
      "cell_type": "code",
      "source": [
        "#Falta limpiar el dataframe y cambiar por version descomentada\n",
        "\n",
        "#X = datos_limpios.drop('Attrition', axis=1)\n",
        "#y = datos_limpios['Attrition']\n",
        "\n",
        "\n",
        "X = datos.drop('Attrition', axis=1)\n",
        "y = datos['Attrition']\n",
        "\n",
        "X_train, X_test, y_train, y_test = train_test_split(X, y, test_size=0.2, stratify=y, random_state=77)\n"
      ],
      "metadata": {
        "id": "ZwAjPwUhLocA",
        "colab": {
          "base_uri": "https://localhost:8080/",
          "height": 201
        },
        "outputId": "5a53a61c-22a5-4bb3-c92a-8d582a57171d"
      },
      "execution_count": null,
      "outputs": [
        {
          "output_type": "error",
          "ename": "NameError",
          "evalue": "ignored",
          "traceback": [
            "\u001b[0;31m---------------------------------------------------------------------------\u001b[0m",
            "\u001b[0;31mNameError\u001b[0m                                 Traceback (most recent call last)",
            "\u001b[0;32m<ipython-input-9-ba3068040dda>\u001b[0m in \u001b[0;36m<cell line: 10>\u001b[0;34m()\u001b[0m\n\u001b[1;32m      8\u001b[0m \u001b[0my\u001b[0m \u001b[0;34m=\u001b[0m \u001b[0mdatos\u001b[0m\u001b[0;34m[\u001b[0m\u001b[0;34m'Attrition'\u001b[0m\u001b[0;34m]\u001b[0m\u001b[0;34m\u001b[0m\u001b[0;34m\u001b[0m\u001b[0m\n\u001b[1;32m      9\u001b[0m \u001b[0;34m\u001b[0m\u001b[0m\n\u001b[0;32m---> 10\u001b[0;31m \u001b[0mX_train\u001b[0m\u001b[0;34m,\u001b[0m \u001b[0mX_test\u001b[0m\u001b[0;34m,\u001b[0m \u001b[0my_train\u001b[0m\u001b[0;34m,\u001b[0m \u001b[0my_test\u001b[0m \u001b[0;34m=\u001b[0m \u001b[0mtrain_test_split\u001b[0m\u001b[0;34m(\u001b[0m\u001b[0mX\u001b[0m\u001b[0;34m,\u001b[0m \u001b[0my\u001b[0m\u001b[0;34m,\u001b[0m \u001b[0mtest_size\u001b[0m\u001b[0;34m=\u001b[0m\u001b[0;36m0.2\u001b[0m\u001b[0;34m,\u001b[0m \u001b[0mstratify\u001b[0m\u001b[0;34m=\u001b[0m\u001b[0my\u001b[0m\u001b[0;34m,\u001b[0m \u001b[0mrandom_state\u001b[0m\u001b[0;34m=\u001b[0m\u001b[0;36m77\u001b[0m\u001b[0;34m)\u001b[0m\u001b[0;34m\u001b[0m\u001b[0;34m\u001b[0m\u001b[0m\n\u001b[0m",
            "\u001b[0;31mNameError\u001b[0m: name 'train_test_split' is not defined"
          ]
        }
      ]
    },
    {
      "cell_type": "markdown",
      "source": [
        "## Preporcesamiento de los datos"
      ],
      "metadata": {
        "id": "kwj6Pdl6OHqv"
      }
    },
    {
      "cell_type": "code",
      "source": [
        "import pandas as pd\n",
        "from sklearn.model_selection import train_test_split\n",
        "from sklearn.compose import ColumnTransformer\n",
        "from sklearn.pipeline import Pipeline\n",
        "from sklearn.impute import SimpleImputer\n",
        "from sklearn.preprocessing import StandardScaler, OneHotEncoder, LabelEncoder\n",
        "from sklearn.preprocessing import MinMaxScaler\n",
        "from sklearn.decomposition import PCA\n",
        "from sklearn.preprocessing import RobustScaler\n",
        "from sklearn.impute import KNNImputer\n",
        "from sklearn.model_selection import train_test_split, cross_val_score, RandomizedSearchCV\n",
        "\n",
        "\n",
        "\n",
        "\n",
        "\n",
        "\n",
        "# Separar las variables predictoras y la variable objetivo\n",
        "X = datos.drop('Attrition', axis=1)\n",
        "y = datos['Attrition']\n",
        "\n",
        "# Codificar las etiquetas 'No' y 'Yes' en 0 y 1\n",
        "le = LabelEncoder()\n",
        "y = le.fit_transform(y)\n",
        "\n",
        "# Separar los datos en conjuntos de entrenamiento y prueba (estratificado)\n",
        "X_train, X_test, y_train, y_test = train_test_split(X, y, test_size=0.2, stratify=y, random_state=42)\n",
        "\n",
        "# Separamos las variables numéricas de las categóricas\n",
        "numeric_features = [\n",
        "    'hrs', 'absences', 'JobInvolvement', 'PerformanceRating',\n",
        "    'EnvironmentSatisfaction', 'JobSatisfaction', 'WorkLifeBalance', 'Age',\n",
        "    'DistanceFromHome', 'Education', 'EmployeeID', 'JobLevel',\n",
        "    'MonthlyIncome', 'NumCompaniesWorked', 'PercentSalaryHike',\n",
        "    'StockOptionLevel', 'TotalWorkingYears', 'TrainingTimesLastYear',\n",
        "    'YearsAtCompany', 'YearsSinceLastPromotion', 'YearsWithCurrManager'\n",
        "]\n",
        "\n",
        "categorical_features = [\n",
        "    'BusinessTravel', 'Department', 'EducationField', 'Gender',\n",
        "    'JobRole', 'MaritalStatus'\n",
        "]\n",
        "\n",
        "#CREACION DE PIPELINES\n",
        "\n",
        "#pipeline para atributos numéricos\n",
        "numeric_transformer = Pipeline(steps=[\n",
        "    ('imputer', SimpleImputer(strategy='median')),\n",
        "    ('scaler', StandardScaler())])\n",
        "\n",
        "\"\"\"\n",
        "numeric_transformer = Pipeline(steps=[\n",
        "    ('imputer', KNNImputer(n_neighbors=5)),\n",
        "    ('scaler', RobustScaler())])\n",
        "\"\"\"\n",
        "\n",
        "#pipeline para atributos categóricos\n",
        "categorical_transformer = Pipeline(steps=[\n",
        "    ('imputer', SimpleImputer(strategy='most_frequent')),\n",
        "    ('onehot', OneHotEncoder(handle_unknown='ignore', sparse_output=False)),\n",
        "    ('pca', PCA(n_components=5))])\n",
        "\n",
        "#Establecemos el modo en el que preprocesar las variables categóricas y numéricas\n",
        "preprocessor = ColumnTransformer(\n",
        "    transformers=[\n",
        "        ('num', numeric_transformer, numeric_features),\n",
        "        ('cat', categorical_transformer, categorical_features)])\n",
        "\n",
        "#-------------------------------- Aquí difiere del T9 ----------------------------------------------\n",
        "\n",
        "\n",
        "\n",
        "# Aplicar preprocesamiento\n",
        "X_train_processed = preprocessor.fit_transform(X_train)\n",
        "X_test_processed = preprocessor.transform(X_test)\n",
        "\n",
        "\n",
        "X = pd.get_dummies(X, columns=categorical_features)\n",
        "\n",
        "\n",
        "# Verificar si el one-hot encoding se aplicó correctamente\n",
        "print(\"X_train después del preprocesamiento:\")\n",
        "print(X_train_processed)\n",
        "X_train.select_dtypes('object').columns\n",
        "\n",
        "#--------------------------------Revisar si hace falta un segundo barrido de valores negativos ----------------------------------------------\n",
        "\n",
        "# Crear un objeto MinMaxScaler\n",
        "scaler = MinMaxScaler()\n",
        "\n",
        "# Aplicar la transformación MinMaxScaler solo a las características con valores negativos\n",
        "X_train_processed[:, :len(numeric_features)] = scaler.fit_transform(X_train_processed[:, :len(numeric_features)])\n",
        "X_test_processed[:, :len(numeric_features)] = scaler.transform(X_test_processed[:, :len(numeric_features)])\n",
        "\n",
        "\n"
      ],
      "metadata": {
        "colab": {
          "base_uri": "https://localhost:8080/"
        },
        "id": "CJ5cNUN3L9Ai",
        "outputId": "430ecaab-f34d-41e7-8774-afcbc3b42c8c"
      },
      "execution_count": null,
      "outputs": [
        {
          "output_type": "stream",
          "name": "stdout",
          "text": [
            "X_train después del preprocesamiento:\n",
            "[[-0.19718329 -0.96930027  1.87537061 ...  0.4694928  -0.67326391\n",
            "  -0.01169075]\n",
            " [-0.19718329 -0.76533442  0.34417239 ...  1.04415793  0.59167734\n",
            "   0.7311469 ]\n",
            " [-0.19718329 -1.37723195  0.34417239 ... -0.73034386  0.07066598\n",
            "  -0.68544329]\n",
            " ...\n",
            " [-0.19718329 -1.5811978   0.34417239 ...  0.38607513 -0.42098306\n",
            "   0.04742811]\n",
            " [-0.60781977  0.05052895  0.34417239 ... -0.97282418  0.61553552\n",
            "  -0.66752493]\n",
            " [-0.300564   -1.17326611 -2.71822406 ...  0.29903612 -0.40830512\n",
            "   0.5826621 ]]\n"
          ]
        }
      ]
    },
    {
      "cell_type": "code",
      "source": [
        "import pandas as pd\n",
        "from sklearn.model_selection import train_test_split\n",
        "from sklearn.compose import ColumnTransformer\n",
        "from sklearn.pipeline import Pipeline\n",
        "from sklearn.impute import SimpleImputer\n",
        "from sklearn.preprocessing import StandardScaler, OneHotEncoder, LabelEncoder\n",
        "from sklearn.preprocessing import MinMaxScaler\n",
        "from sklearn.decomposition import PCA\n",
        "from sklearn.preprocessing import RobustScaler\n",
        "from sklearn.impute import KNNImputer\n",
        "\n",
        "\n",
        "\n",
        "\n",
        "\n",
        "\n",
        "# Separar las variables predictoras y la variable objetivo\n",
        "X = datos.drop('Attrition', axis=1)\n",
        "y = datos['Attrition']\n",
        "\n",
        "# Codificar las etiquetas 'No' y 'Yes' en 0 y 1\n",
        "le = LabelEncoder()\n",
        "y = le.fit_transform(y)\n",
        "\n",
        "# Separar los datos en conjuntos de entrenamiento y prueba (estratificado)\n",
        "X_train, X_test, y_train, y_test = train_test_split(X, y, test_size=0.2, stratify=y, random_state=42)\n",
        "\n",
        "# Separamos las variables numéricas de las categóricas\n",
        "numeric_features = [\n",
        "    'hrs', 'absences', 'JobInvolvement', 'PerformanceRating',\n",
        "    'EnvironmentSatisfaction', 'JobSatisfaction', 'WorkLifeBalance', 'Age',\n",
        "    'DistanceFromHome', 'Education', 'EmployeeID', 'JobLevel',\n",
        "    'MonthlyIncome', 'NumCompaniesWorked', 'PercentSalaryHike',\n",
        "    'StockOptionLevel', 'TotalWorkingYears', 'TrainingTimesLastYear',\n",
        "    'YearsAtCompany', 'YearsSinceLastPromotion', 'YearsWithCurrManager'\n",
        "]\n",
        "\n",
        "categorical_features = [\n",
        "    'BusinessTravel', 'Department', 'EducationField', 'Gender',\n",
        "    'JobRole', 'MaritalStatus'\n",
        "]\n",
        "\n",
        "#CREACION DE PIPELINES\n",
        "\n",
        "#pipeline para atributos numéricos\n",
        "numeric_transformer = Pipeline(steps=[\n",
        "    ('imputer', SimpleImputer(strategy='median')),\n",
        "    ('scaler', StandardScaler())])\n",
        "\n",
        "\"\"\"\n",
        "numeric_transformer = Pipeline(steps=[\n",
        "    ('imputer', KNNImputer(n_neighbors=5)),\n",
        "    ('scaler', RobustScaler())])\n",
        "\"\"\"\n",
        "\n",
        "#pipeline para atributos categóricos\n",
        "categorical_transformer = Pipeline(steps=[\n",
        "    ('imputer', SimpleImputer(strategy='most_frequent')),\n",
        "    ('onehot', OneHotEncoder(handle_unknown='ignore', sparse_output=False)),\n",
        "    ('pca', PCA(n_components=5))])\n",
        "\n",
        "#Establecemos el modo en el que preprocesar las variables categóricas y numéricas\n",
        "preprocessor = ColumnTransformer(\n",
        "    transformers=[\n",
        "        ('num', numeric_transformer, numeric_features),\n",
        "        ('cat', categorical_transformer, categorical_features)])"
      ],
      "metadata": {
        "id": "LZWz2qiggLy_"
      },
      "execution_count": null,
      "outputs": []
    },
    {
      "cell_type": "markdown",
      "source": [
        "# Entrenamiento con Logistic Regression"
      ],
      "metadata": {
        "id": "latQYN-CjvpY"
      }
    },
    {
      "cell_type": "code",
      "source": [
        "from sklearn.model_selection import cross_val_score\n",
        "from sklearn.linear_model import LogisticRegression\n",
        "\n",
        "scaler = StandardScaler()\n",
        "lr = LogisticRegression(penalty='none', random_state = 77)\n",
        "\n",
        "\n",
        "#Creación del clasificador\n",
        "\n",
        "Logistig_regression_clf = Pipeline(steps=[('preprocessor', preprocessor),\n",
        "                      ('classifier', LogisticRegression(class_weight='balanced'))])\n",
        "\"\"\"\n",
        "\n",
        "\n",
        "Logistig_regression_clf = Pipeline(steps=[\n",
        "    ('preprocessor', preprocessor),\n",
        "    ('classifier', LogisticRegression(class_weight='balanced')),\n",
        "    ('scale', scaler),\n",
        "    ('lr', lr)\n",
        "])\n",
        "\"\"\"\n",
        "\n",
        "Logistig_regression_clf.fit(X_train, y_train)\n",
        "\n"
      ],
      "metadata": {
        "colab": {
          "base_uri": "https://localhost:8080/",
          "height": 265
        },
        "id": "c0wTfAvhj06z",
        "outputId": "54da7163-6534-4da7-985e-9b583da50f54"
      },
      "execution_count": null,
      "outputs": [
        {
          "output_type": "execute_result",
          "data": {
            "text/plain": [
              "Pipeline(steps=[('preprocessor',\n",
              "                 ColumnTransformer(transformers=[('num',\n",
              "                                                  Pipeline(steps=[('imputer',\n",
              "                                                                   SimpleImputer(strategy='median')),\n",
              "                                                                  ('scaler',\n",
              "                                                                   StandardScaler())]),\n",
              "                                                  ['hrs', 'absences',\n",
              "                                                   'JobInvolvement',\n",
              "                                                   'PerformanceRating',\n",
              "                                                   'EnvironmentSatisfaction',\n",
              "                                                   'JobSatisfaction',\n",
              "                                                   'WorkLifeBalance', 'Age',\n",
              "                                                   'DistanceFromHome',\n",
              "                                                   'Education', 'EmployeeID',\n",
              "                                                   'JobLevel', 'MonthlyIn...\n",
              "                                                   'YearsSinceLastPromotion',\n",
              "                                                   'YearsWithCurrManager']),\n",
              "                                                 ('cat',\n",
              "                                                  Pipeline(steps=[('imputer',\n",
              "                                                                   SimpleImputer(strategy='most_frequent')),\n",
              "                                                                  ('onehot',\n",
              "                                                                   OneHotEncoder(handle_unknown='ignore',\n",
              "                                                                                 sparse_output=False)),\n",
              "                                                                  ('pca',\n",
              "                                                                   PCA(n_components=5))]),\n",
              "                                                  ['BusinessTravel',\n",
              "                                                   'Department',\n",
              "                                                   'EducationField', 'Gender',\n",
              "                                                   'JobRole',\n",
              "                                                   'MaritalStatus'])])),\n",
              "                ('classifier', LogisticRegression(class_weight='balanced'))])"
            ],
            "text/html": [
              "<style>#sk-container-id-2 {color: black;background-color: white;}#sk-container-id-2 pre{padding: 0;}#sk-container-id-2 div.sk-toggleable {background-color: white;}#sk-container-id-2 label.sk-toggleable__label {cursor: pointer;display: block;width: 100%;margin-bottom: 0;padding: 0.3em;box-sizing: border-box;text-align: center;}#sk-container-id-2 label.sk-toggleable__label-arrow:before {content: \"▸\";float: left;margin-right: 0.25em;color: #696969;}#sk-container-id-2 label.sk-toggleable__label-arrow:hover:before {color: black;}#sk-container-id-2 div.sk-estimator:hover label.sk-toggleable__label-arrow:before {color: black;}#sk-container-id-2 div.sk-toggleable__content {max-height: 0;max-width: 0;overflow: hidden;text-align: left;background-color: #f0f8ff;}#sk-container-id-2 div.sk-toggleable__content pre {margin: 0.2em;color: black;border-radius: 0.25em;background-color: #f0f8ff;}#sk-container-id-2 input.sk-toggleable__control:checked~div.sk-toggleable__content {max-height: 200px;max-width: 100%;overflow: auto;}#sk-container-id-2 input.sk-toggleable__control:checked~label.sk-toggleable__label-arrow:before {content: \"▾\";}#sk-container-id-2 div.sk-estimator input.sk-toggleable__control:checked~label.sk-toggleable__label {background-color: #d4ebff;}#sk-container-id-2 div.sk-label input.sk-toggleable__control:checked~label.sk-toggleable__label {background-color: #d4ebff;}#sk-container-id-2 input.sk-hidden--visually {border: 0;clip: rect(1px 1px 1px 1px);clip: rect(1px, 1px, 1px, 1px);height: 1px;margin: -1px;overflow: hidden;padding: 0;position: absolute;width: 1px;}#sk-container-id-2 div.sk-estimator {font-family: monospace;background-color: #f0f8ff;border: 1px dotted black;border-radius: 0.25em;box-sizing: border-box;margin-bottom: 0.5em;}#sk-container-id-2 div.sk-estimator:hover {background-color: #d4ebff;}#sk-container-id-2 div.sk-parallel-item::after {content: \"\";width: 100%;border-bottom: 1px solid gray;flex-grow: 1;}#sk-container-id-2 div.sk-label:hover label.sk-toggleable__label {background-color: #d4ebff;}#sk-container-id-2 div.sk-serial::before {content: \"\";position: absolute;border-left: 1px solid gray;box-sizing: border-box;top: 0;bottom: 0;left: 50%;z-index: 0;}#sk-container-id-2 div.sk-serial {display: flex;flex-direction: column;align-items: center;background-color: white;padding-right: 0.2em;padding-left: 0.2em;position: relative;}#sk-container-id-2 div.sk-item {position: relative;z-index: 1;}#sk-container-id-2 div.sk-parallel {display: flex;align-items: stretch;justify-content: center;background-color: white;position: relative;}#sk-container-id-2 div.sk-item::before, #sk-container-id-2 div.sk-parallel-item::before {content: \"\";position: absolute;border-left: 1px solid gray;box-sizing: border-box;top: 0;bottom: 0;left: 50%;z-index: -1;}#sk-container-id-2 div.sk-parallel-item {display: flex;flex-direction: column;z-index: 1;position: relative;background-color: white;}#sk-container-id-2 div.sk-parallel-item:first-child::after {align-self: flex-end;width: 50%;}#sk-container-id-2 div.sk-parallel-item:last-child::after {align-self: flex-start;width: 50%;}#sk-container-id-2 div.sk-parallel-item:only-child::after {width: 0;}#sk-container-id-2 div.sk-dashed-wrapped {border: 1px dashed gray;margin: 0 0.4em 0.5em 0.4em;box-sizing: border-box;padding-bottom: 0.4em;background-color: white;}#sk-container-id-2 div.sk-label label {font-family: monospace;font-weight: bold;display: inline-block;line-height: 1.2em;}#sk-container-id-2 div.sk-label-container {text-align: center;}#sk-container-id-2 div.sk-container {/* jupyter's `normalize.less` sets `[hidden] { display: none; }` but bootstrap.min.css set `[hidden] { display: none !important; }` so we also need the `!important` here to be able to override the default hidden behavior on the sphinx rendered scikit-learn.org. See: https://github.com/scikit-learn/scikit-learn/issues/21755 */display: inline-block !important;position: relative;}#sk-container-id-2 div.sk-text-repr-fallback {display: none;}</style><div id=\"sk-container-id-2\" class=\"sk-top-container\"><div class=\"sk-text-repr-fallback\"><pre>Pipeline(steps=[(&#x27;preprocessor&#x27;,\n",
              "                 ColumnTransformer(transformers=[(&#x27;num&#x27;,\n",
              "                                                  Pipeline(steps=[(&#x27;imputer&#x27;,\n",
              "                                                                   SimpleImputer(strategy=&#x27;median&#x27;)),\n",
              "                                                                  (&#x27;scaler&#x27;,\n",
              "                                                                   StandardScaler())]),\n",
              "                                                  [&#x27;hrs&#x27;, &#x27;absences&#x27;,\n",
              "                                                   &#x27;JobInvolvement&#x27;,\n",
              "                                                   &#x27;PerformanceRating&#x27;,\n",
              "                                                   &#x27;EnvironmentSatisfaction&#x27;,\n",
              "                                                   &#x27;JobSatisfaction&#x27;,\n",
              "                                                   &#x27;WorkLifeBalance&#x27;, &#x27;Age&#x27;,\n",
              "                                                   &#x27;DistanceFromHome&#x27;,\n",
              "                                                   &#x27;Education&#x27;, &#x27;EmployeeID&#x27;,\n",
              "                                                   &#x27;JobLevel&#x27;, &#x27;MonthlyIn...\n",
              "                                                   &#x27;YearsSinceLastPromotion&#x27;,\n",
              "                                                   &#x27;YearsWithCurrManager&#x27;]),\n",
              "                                                 (&#x27;cat&#x27;,\n",
              "                                                  Pipeline(steps=[(&#x27;imputer&#x27;,\n",
              "                                                                   SimpleImputer(strategy=&#x27;most_frequent&#x27;)),\n",
              "                                                                  (&#x27;onehot&#x27;,\n",
              "                                                                   OneHotEncoder(handle_unknown=&#x27;ignore&#x27;,\n",
              "                                                                                 sparse_output=False)),\n",
              "                                                                  (&#x27;pca&#x27;,\n",
              "                                                                   PCA(n_components=5))]),\n",
              "                                                  [&#x27;BusinessTravel&#x27;,\n",
              "                                                   &#x27;Department&#x27;,\n",
              "                                                   &#x27;EducationField&#x27;, &#x27;Gender&#x27;,\n",
              "                                                   &#x27;JobRole&#x27;,\n",
              "                                                   &#x27;MaritalStatus&#x27;])])),\n",
              "                (&#x27;classifier&#x27;, LogisticRegression(class_weight=&#x27;balanced&#x27;))])</pre><b>In a Jupyter environment, please rerun this cell to show the HTML representation or trust the notebook. <br />On GitHub, the HTML representation is unable to render, please try loading this page with nbviewer.org.</b></div><div class=\"sk-container\" hidden><div class=\"sk-item sk-dashed-wrapped\"><div class=\"sk-label-container\"><div class=\"sk-label sk-toggleable\"><input class=\"sk-toggleable__control sk-hidden--visually\" id=\"sk-estimator-id-11\" type=\"checkbox\" ><label for=\"sk-estimator-id-11\" class=\"sk-toggleable__label sk-toggleable__label-arrow\">Pipeline</label><div class=\"sk-toggleable__content\"><pre>Pipeline(steps=[(&#x27;preprocessor&#x27;,\n",
              "                 ColumnTransformer(transformers=[(&#x27;num&#x27;,\n",
              "                                                  Pipeline(steps=[(&#x27;imputer&#x27;,\n",
              "                                                                   SimpleImputer(strategy=&#x27;median&#x27;)),\n",
              "                                                                  (&#x27;scaler&#x27;,\n",
              "                                                                   StandardScaler())]),\n",
              "                                                  [&#x27;hrs&#x27;, &#x27;absences&#x27;,\n",
              "                                                   &#x27;JobInvolvement&#x27;,\n",
              "                                                   &#x27;PerformanceRating&#x27;,\n",
              "                                                   &#x27;EnvironmentSatisfaction&#x27;,\n",
              "                                                   &#x27;JobSatisfaction&#x27;,\n",
              "                                                   &#x27;WorkLifeBalance&#x27;, &#x27;Age&#x27;,\n",
              "                                                   &#x27;DistanceFromHome&#x27;,\n",
              "                                                   &#x27;Education&#x27;, &#x27;EmployeeID&#x27;,\n",
              "                                                   &#x27;JobLevel&#x27;, &#x27;MonthlyIn...\n",
              "                                                   &#x27;YearsSinceLastPromotion&#x27;,\n",
              "                                                   &#x27;YearsWithCurrManager&#x27;]),\n",
              "                                                 (&#x27;cat&#x27;,\n",
              "                                                  Pipeline(steps=[(&#x27;imputer&#x27;,\n",
              "                                                                   SimpleImputer(strategy=&#x27;most_frequent&#x27;)),\n",
              "                                                                  (&#x27;onehot&#x27;,\n",
              "                                                                   OneHotEncoder(handle_unknown=&#x27;ignore&#x27;,\n",
              "                                                                                 sparse_output=False)),\n",
              "                                                                  (&#x27;pca&#x27;,\n",
              "                                                                   PCA(n_components=5))]),\n",
              "                                                  [&#x27;BusinessTravel&#x27;,\n",
              "                                                   &#x27;Department&#x27;,\n",
              "                                                   &#x27;EducationField&#x27;, &#x27;Gender&#x27;,\n",
              "                                                   &#x27;JobRole&#x27;,\n",
              "                                                   &#x27;MaritalStatus&#x27;])])),\n",
              "                (&#x27;classifier&#x27;, LogisticRegression(class_weight=&#x27;balanced&#x27;))])</pre></div></div></div><div class=\"sk-serial\"><div class=\"sk-item sk-dashed-wrapped\"><div class=\"sk-label-container\"><div class=\"sk-label sk-toggleable\"><input class=\"sk-toggleable__control sk-hidden--visually\" id=\"sk-estimator-id-12\" type=\"checkbox\" ><label for=\"sk-estimator-id-12\" class=\"sk-toggleable__label sk-toggleable__label-arrow\">preprocessor: ColumnTransformer</label><div class=\"sk-toggleable__content\"><pre>ColumnTransformer(transformers=[(&#x27;num&#x27;,\n",
              "                                 Pipeline(steps=[(&#x27;imputer&#x27;,\n",
              "                                                  SimpleImputer(strategy=&#x27;median&#x27;)),\n",
              "                                                 (&#x27;scaler&#x27;, StandardScaler())]),\n",
              "                                 [&#x27;hrs&#x27;, &#x27;absences&#x27;, &#x27;JobInvolvement&#x27;,\n",
              "                                  &#x27;PerformanceRating&#x27;,\n",
              "                                  &#x27;EnvironmentSatisfaction&#x27;, &#x27;JobSatisfaction&#x27;,\n",
              "                                  &#x27;WorkLifeBalance&#x27;, &#x27;Age&#x27;, &#x27;DistanceFromHome&#x27;,\n",
              "                                  &#x27;Education&#x27;, &#x27;EmployeeID&#x27;, &#x27;JobLevel&#x27;,\n",
              "                                  &#x27;MonthlyIncome&#x27;, &#x27;NumCompaniesWorked&#x27;,\n",
              "                                  &#x27;Perc...\n",
              "                                  &#x27;TotalWorkingYears&#x27;, &#x27;TrainingTimesLastYear&#x27;,\n",
              "                                  &#x27;YearsAtCompany&#x27;, &#x27;YearsSinceLastPromotion&#x27;,\n",
              "                                  &#x27;YearsWithCurrManager&#x27;]),\n",
              "                                (&#x27;cat&#x27;,\n",
              "                                 Pipeline(steps=[(&#x27;imputer&#x27;,\n",
              "                                                  SimpleImputer(strategy=&#x27;most_frequent&#x27;)),\n",
              "                                                 (&#x27;onehot&#x27;,\n",
              "                                                  OneHotEncoder(handle_unknown=&#x27;ignore&#x27;,\n",
              "                                                                sparse_output=False)),\n",
              "                                                 (&#x27;pca&#x27;, PCA(n_components=5))]),\n",
              "                                 [&#x27;BusinessTravel&#x27;, &#x27;Department&#x27;,\n",
              "                                  &#x27;EducationField&#x27;, &#x27;Gender&#x27;, &#x27;JobRole&#x27;,\n",
              "                                  &#x27;MaritalStatus&#x27;])])</pre></div></div></div><div class=\"sk-parallel\"><div class=\"sk-parallel-item\"><div class=\"sk-item\"><div class=\"sk-label-container\"><div class=\"sk-label sk-toggleable\"><input class=\"sk-toggleable__control sk-hidden--visually\" id=\"sk-estimator-id-13\" type=\"checkbox\" ><label for=\"sk-estimator-id-13\" class=\"sk-toggleable__label sk-toggleable__label-arrow\">num</label><div class=\"sk-toggleable__content\"><pre>[&#x27;hrs&#x27;, &#x27;absences&#x27;, &#x27;JobInvolvement&#x27;, &#x27;PerformanceRating&#x27;, &#x27;EnvironmentSatisfaction&#x27;, &#x27;JobSatisfaction&#x27;, &#x27;WorkLifeBalance&#x27;, &#x27;Age&#x27;, &#x27;DistanceFromHome&#x27;, &#x27;Education&#x27;, &#x27;EmployeeID&#x27;, &#x27;JobLevel&#x27;, &#x27;MonthlyIncome&#x27;, &#x27;NumCompaniesWorked&#x27;, &#x27;PercentSalaryHike&#x27;, &#x27;StockOptionLevel&#x27;, &#x27;TotalWorkingYears&#x27;, &#x27;TrainingTimesLastYear&#x27;, &#x27;YearsAtCompany&#x27;, &#x27;YearsSinceLastPromotion&#x27;, &#x27;YearsWithCurrManager&#x27;]</pre></div></div></div><div class=\"sk-serial\"><div class=\"sk-item\"><div class=\"sk-serial\"><div class=\"sk-item\"><div class=\"sk-estimator sk-toggleable\"><input class=\"sk-toggleable__control sk-hidden--visually\" id=\"sk-estimator-id-14\" type=\"checkbox\" ><label for=\"sk-estimator-id-14\" class=\"sk-toggleable__label sk-toggleable__label-arrow\">SimpleImputer</label><div class=\"sk-toggleable__content\"><pre>SimpleImputer(strategy=&#x27;median&#x27;)</pre></div></div></div><div class=\"sk-item\"><div class=\"sk-estimator sk-toggleable\"><input class=\"sk-toggleable__control sk-hidden--visually\" id=\"sk-estimator-id-15\" type=\"checkbox\" ><label for=\"sk-estimator-id-15\" class=\"sk-toggleable__label sk-toggleable__label-arrow\">StandardScaler</label><div class=\"sk-toggleable__content\"><pre>StandardScaler()</pre></div></div></div></div></div></div></div></div><div class=\"sk-parallel-item\"><div class=\"sk-item\"><div class=\"sk-label-container\"><div class=\"sk-label sk-toggleable\"><input class=\"sk-toggleable__control sk-hidden--visually\" id=\"sk-estimator-id-16\" type=\"checkbox\" ><label for=\"sk-estimator-id-16\" class=\"sk-toggleable__label sk-toggleable__label-arrow\">cat</label><div class=\"sk-toggleable__content\"><pre>[&#x27;BusinessTravel&#x27;, &#x27;Department&#x27;, &#x27;EducationField&#x27;, &#x27;Gender&#x27;, &#x27;JobRole&#x27;, &#x27;MaritalStatus&#x27;]</pre></div></div></div><div class=\"sk-serial\"><div class=\"sk-item\"><div class=\"sk-serial\"><div class=\"sk-item\"><div class=\"sk-estimator sk-toggleable\"><input class=\"sk-toggleable__control sk-hidden--visually\" id=\"sk-estimator-id-17\" type=\"checkbox\" ><label for=\"sk-estimator-id-17\" class=\"sk-toggleable__label sk-toggleable__label-arrow\">SimpleImputer</label><div class=\"sk-toggleable__content\"><pre>SimpleImputer(strategy=&#x27;most_frequent&#x27;)</pre></div></div></div><div class=\"sk-item\"><div class=\"sk-estimator sk-toggleable\"><input class=\"sk-toggleable__control sk-hidden--visually\" id=\"sk-estimator-id-18\" type=\"checkbox\" ><label for=\"sk-estimator-id-18\" class=\"sk-toggleable__label sk-toggleable__label-arrow\">OneHotEncoder</label><div class=\"sk-toggleable__content\"><pre>OneHotEncoder(handle_unknown=&#x27;ignore&#x27;, sparse_output=False)</pre></div></div></div><div class=\"sk-item\"><div class=\"sk-estimator sk-toggleable\"><input class=\"sk-toggleable__control sk-hidden--visually\" id=\"sk-estimator-id-19\" type=\"checkbox\" ><label for=\"sk-estimator-id-19\" class=\"sk-toggleable__label sk-toggleable__label-arrow\">PCA</label><div class=\"sk-toggleable__content\"><pre>PCA(n_components=5)</pre></div></div></div></div></div></div></div></div></div></div><div class=\"sk-item\"><div class=\"sk-estimator sk-toggleable\"><input class=\"sk-toggleable__control sk-hidden--visually\" id=\"sk-estimator-id-20\" type=\"checkbox\" ><label for=\"sk-estimator-id-20\" class=\"sk-toggleable__label sk-toggleable__label-arrow\">LogisticRegression</label><div class=\"sk-toggleable__content\"><pre>LogisticRegression(class_weight=&#x27;balanced&#x27;)</pre></div></div></div></div></div></div></div>"
            ]
          },
          "metadata": {},
          "execution_count": 12
        }
      ]
    },
    {
      "cell_type": "code",
      "source": [
        "#Estudiamos la prediccion\n",
        "\n",
        "y_pred = Logistig_regression_clf.predict(X_test)\n",
        "print(y_pred)"
      ],
      "metadata": {
        "colab": {
          "base_uri": "https://localhost:8080/"
        },
        "id": "Ah1vVdpC6oyY",
        "outputId": "f3ea6607-056d-466b-ff9d-b9f87db9fd1a"
      },
      "execution_count": null,
      "outputs": [
        {
          "output_type": "stream",
          "name": "stdout",
          "text": [
            "[0 0 0 0 0 0 0 1 1 0 1 1 0 1 0 1 0 0 0 1 1 0 0 0 0 0 1 1 0 1 0 1 1 1 1 0 0\n",
            " 1 0 1 1 0 0 0 0 0 0 1 1 0 0 0 0 0 0 1 0 1 0 0 0 0 1 1 0 1 1 0 0 1 0 0 0 1\n",
            " 0 1 0 0 0 0 0 0 1 1 0 0 0 0 0 0 0 1 0 0 1 0 1 1 1 0 1 0 0 0 1 0 0 1 0 0 0\n",
            " 1 0 0 0 1 1 1 1 0 1 0 0 1 0 0 0 1 0 0 0 0 1 0 0 1 1 0 1 0 0 0 1 0 0 0 0 0\n",
            " 0 0 0 0 0 0 1 0 0 0 1 1 0 1 0 0 0 0 0 0 0 0 0 0 1 0 0 0 0 0 1 0 0 0 0 0 0\n",
            " 1 1 0 1 1 0 0 0 0 0 0 0 0 0 1 1 1 0 0 0 1 0 1 1 0 1 1 0 1 0 0 1 1 0 1 0 1\n",
            " 1 0 0 0 0 1 1 0 0 0 1 0 0 1 0 0 0 0 1 1 1 0 0 0 0 0 0 1 1 1 0 0 0 1 1 0 0\n",
            " 1 0 0 0 0 0 1 0 0 0 0 0 0 1 0 0 0 1 0 1 1 1 1 0 0 0 0 1 0 0 0 0 1 0 0 1 0\n",
            " 0 1 1 0 1 0 0 0 1 1 0 0 0 0 1 0 0 0 0 1 0 0 0 1 1 0 0 1 1 0 0 0 0 0 0 0 0\n",
            " 1 0 0 0 1 0 0 0 1 0 0 0 0 0 1 1 1 0 0 0 0 0 1 0 0 0 0 0 0 0 0 0 0 0 0 0 1\n",
            " 0 0 0 1 0 0 1 1 0 0 0 0 0 0 1 0 1 0 0 1 1 0 0 1 1 0 0 0 0 0 1 1 0 1 0 0 1\n",
            " 0 0 0 0 0 0 0 1 0 1 0 1 0 0 1 1 0 0 1 0 0 1 0 0 1 1 0 1 0 0 0 1 1 0 1 1 0\n",
            " 1 1 0 1 0 0 0 1 0 0 0 1 1 0 0 0 0 1 0 1 1 0 1 1 0 0 0 0 0 1 0 1 1 1 0 0 0\n",
            " 0 1 0 1 1 1 1 1 0 1 0 0 1 0 0 0 0 1 0 0 0 0 0 0 0 1 0 0 0 0 1 0 1 1 0 0 0\n",
            " 0 0 1 1 0 1 0 1 0 0 1 0 1 0 1 0 0 0 1 0 0 0 0 0 0 0 0 1 0 0 0 0 1 0 0 0 1\n",
            " 0 0 1 1 0 0 1 0 0 1 1 0 0 1 1 0 1 1 1 0 0 1 0 1 0 0 0 0 0 1 1 1 1 0 1 0 0\n",
            " 1 1 0 0 0 0 0 0 0 1 1 0 0 1 0 1 1 0 0 1 0 0 0 0 0 0 0 0 0 1 0 0 0 1 1 1 1\n",
            " 1 0 0 0 1 1 0 0 0 1 1 0 0 0 1 0 0 0 0 0 0 0 1 0 0 0 0 0 0 1 0 1 0 1 0 0 0\n",
            " 1 1 0 1 0 0 1 0 1 0 0 0 0 0 0 0 1 0 0 0 0 0 0 1 1 1 1 0 0 0 1 0 1 0 0 1 0\n",
            " 1 0 0 1 0 0 0 0 0 0 0 0 0 1 0 0 0 0 0 0 0 1 0 0 1 1 0 0 0 0 1 0 0 0 0 0 0\n",
            " 0 0 1 1 0 0 0 1 1 0 1 0 0 1 0 1 0 0 1 0 0 0 0 1 1 0 0 1 1 1 1 0 1 1 1 0 1\n",
            " 0 0 0 0 1 0 0 0 0 0 0 1 0 0 0 1 0 0 0 1 0 0 1 0 1 1 0 0 1 1 0 1 0 0 0 0 0\n",
            " 1 1 0 0 1 1 0 1 1 0 0 0 1 1 1 1 1 0 0 0 1 0 0 0 0 0 1 0 0 0 0 0 0 0 1 1 0\n",
            " 0 0 0 0 0 0 0 0 1 0 0 0 1 0 0 0 0 0 1 0 0 0 0 1 1 1 0 1 1 1 0]\n"
          ]
        }
      ]
    },
    {
      "cell_type": "markdown",
      "source": [],
      "metadata": {
        "id": "-KLXOTOnpjaW"
      }
    },
    {
      "cell_type": "code",
      "source": [
        "from sklearn.metrics import classification_report\n",
        "\n",
        "print(classification_report(y_test, y_pred))"
      ],
      "metadata": {
        "colab": {
          "base_uri": "https://localhost:8080/"
        },
        "id": "7RN1LjWX7JwR",
        "outputId": "42e4ed44-fb5d-4a3c-977b-9f054f1f3dbb"
      },
      "execution_count": null,
      "outputs": [
        {
          "output_type": "stream",
          "name": "stdout",
          "text": [
            "              precision    recall  f1-score   support\n",
            "\n",
            "           0       0.92      0.73      0.81       740\n",
            "           1       0.31      0.65      0.42       142\n",
            "\n",
            "    accuracy                           0.71       882\n",
            "   macro avg       0.62      0.69      0.62       882\n",
            "weighted avg       0.82      0.71      0.75       882\n",
            "\n"
          ]
        }
      ]
    },
    {
      "cell_type": "code",
      "source": [
        "from sklearn.metrics import balanced_accuracy_score\n",
        "\n",
        "print(f\"El valor de balanced accuracy: {balanced_accuracy_score(y_test, y_pred)}\")"
      ],
      "metadata": {
        "colab": {
          "base_uri": "https://localhost:8080/"
        },
        "id": "LPbfZSgz7MPm",
        "outputId": "5dadb943-6791-40f0-d82e-eb56c87ea391"
      },
      "execution_count": null,
      "outputs": [
        {
          "output_type": "stream",
          "name": "stdout",
          "text": [
            "El valor de balanced accuracy: 0.6903026265702322\n"
          ]
        }
      ]
    },
    {
      "cell_type": "code",
      "source": [
        "from sklearn.metrics import ConfusionMatrixDisplay, confusion_matrix\n",
        "\n",
        "cm = confusion_matrix(y_test, y_pred)\n",
        "disp= ConfusionMatrixDisplay(confusion_matrix=cm)\n",
        "disp.plot()\n",
        "plt.show()"
      ],
      "metadata": {
        "colab": {
          "base_uri": "https://localhost:8080/",
          "height": 632
        },
        "id": "YXahBZvq7SBS",
        "outputId": "9e7ffc47-de24-4aea-e130-ab8ee21fc22b"
      },
      "execution_count": null,
      "outputs": [
        {
          "output_type": "error",
          "ename": "NameError",
          "evalue": "ignored",
          "traceback": [
            "\u001b[0;31m---------------------------------------------------------------------------\u001b[0m",
            "\u001b[0;31mNameError\u001b[0m                                 Traceback (most recent call last)",
            "\u001b[0;32m<ipython-input-21-6c4df9d8e7d4>\u001b[0m in \u001b[0;36m<cell line: 6>\u001b[0;34m()\u001b[0m\n\u001b[1;32m      4\u001b[0m \u001b[0mdisp\u001b[0m\u001b[0;34m=\u001b[0m \u001b[0mConfusionMatrixDisplay\u001b[0m\u001b[0;34m(\u001b[0m\u001b[0mconfusion_matrix\u001b[0m\u001b[0;34m=\u001b[0m\u001b[0mcm\u001b[0m\u001b[0;34m)\u001b[0m\u001b[0;34m\u001b[0m\u001b[0;34m\u001b[0m\u001b[0m\n\u001b[1;32m      5\u001b[0m \u001b[0mdisp\u001b[0m\u001b[0;34m.\u001b[0m\u001b[0mplot\u001b[0m\u001b[0;34m(\u001b[0m\u001b[0;34m)\u001b[0m\u001b[0;34m\u001b[0m\u001b[0;34m\u001b[0m\u001b[0m\n\u001b[0;32m----> 6\u001b[0;31m \u001b[0mplt\u001b[0m\u001b[0;34m.\u001b[0m\u001b[0mshow\u001b[0m\u001b[0;34m(\u001b[0m\u001b[0;34m)\u001b[0m\u001b[0;34m\u001b[0m\u001b[0;34m\u001b[0m\u001b[0m\n\u001b[0m",
            "\u001b[0;31mNameError\u001b[0m: name 'plt' is not defined"
          ]
        },
        {
          "output_type": "display_data",
          "data": {
            "text/plain": [
              "<Figure size 640x480 with 2 Axes>"
            ],
            "image/png": "[encoded data removed]"
          },
          "metadata": {}
        }
      ]
    },
    {
      "cell_type": "markdown",
      "source": [
        "# Buscamos variables negativas que entorpecen el chi2"
      ],
      "metadata": {
        "id": "vKfi4J-L2SiK"
      }
    },
    {
      "cell_type": "code",
      "source": [
        "# Crear un DataFrame de características procesadas para facilitar la inspección\n",
        "feature_names = numeric_features + preprocessor.named_transformers_['cat'].named_steps['onehot'].get_feature_names_out(categorical_features).tolist()\n",
        "X_train_df = pd.DataFrame(X_train_processed, columns=feature_names)\n",
        "\n",
        "# Identificar características con valores negativos\n",
        "negative_value_features = []\n",
        "for column in X_train_df.columns:\n",
        "    if X_train_df[column].min() < 0:\n",
        "        negative_value_features.append(column)\n",
        "        print(f\"Característica '{column}' tiene un valor mínimo de {X_train_df[column].min()}\")\n",
        "\n"
      ],
      "metadata": {
        "id": "QZFCfuGv2BtY"
      },
      "execution_count": null,
      "outputs": []
    },
    {
      "cell_type": "markdown",
      "source": [
        "# Entrenamiento de un modelo de Regresión logística y evaluación"
      ],
      "metadata": {
        "id": "MwKNvocKON8Q"
      }
    },
    {
      "cell_type": "code",
      "source": [
        "from sklearn.linear_model import LogisticRegression\n",
        "from sklearn.metrics import balanced_accuracy_score, f1_score, confusion_matrix\n",
        "\n",
        "logreg = LogisticRegression(class_weight='balanced', random_state=42)\n",
        "logreg.fit(X_train_processed, y_train)\n",
        "\n",
        "y_pred_logreg = logreg.predict(X_test_processed)\n",
        "\n",
        "balanced_acc_logreg = balanced_accuracy_score(y_test, y_pred_logreg)\n",
        "f1_logreg = f1_score(y_test, y_pred_logreg)\n",
        "conf_matrix_logreg = confusion_matrix(y_test, y_pred_logreg)\n",
        "\n",
        "print(\"Balanced Accuracy (Logistic Regression):\", balanced_acc_logreg)\n",
        "print(\"F1 Score (Logistic Regression):\", f1_logreg)\n",
        "print(\"Confusion Matrix (Logistic Regression):\\n\", conf_matrix_logreg)\n",
        "\n"
      ],
      "metadata": {
        "colab": {
          "base_uri": "https://localhost:8080/"
        },
        "id": "LMd9UjS3OXuK",
        "outputId": "28eb0c0a-3f38-4b83-d385-524aca12ed26"
      },
      "execution_count": null,
      "outputs": [
        {
          "output_type": "stream",
          "name": "stdout",
          "text": [
            "Balanced Accuracy (Logistic Regression): 0.7188618195660449\n",
            "F1 Score (Logistic Regression): 0.4572748267898384\n",
            "Confusion Matrix (Logistic Regression):\n",
            " [[548 192]\n",
            " [ 43  99]]\n"
          ]
        }
      ]
    },
    {
      "cell_type": "markdown",
      "source": [
        "La matriz de confusión muestra que de los casos negativos (No), 548 fueron clasificados correctamente y 192 incorrectamente. De los casos positivos (Yes), 99 fueron clasificados correctamente y 43 incorrectamente.\n",
        "\n",
        "La precisión equilibrada es una medida útil en problemas de clasificación desequilibrados, ya que tiene en cuenta tanto la tasa de verdaderos positivos como la tasa de verdaderos negativos. Un valor más alto indica un mejor rendimiento del modelo. En este caso, el modelo de regresión logística tiene una precisión equilibrada de aproximadamente el 71.89%.\n",
        "\n",
        "El F1 Score es una métrica que combina la precisión y el recall en un solo valor, siendo útil cuando se tiene un conjunto de datos desequilibrados y se quiere medir el rendimiento del modelo en la clasificación de la clase minoritaria. Un valor más alto indica un mejor rendimiento del modelo. En este caso, el modelo de regresión logística tiene un F1 Score de aproximadamente el 45.73%."
      ],
      "metadata": {
        "id": "v-Yc052SOn7H"
      }
    },
    {
      "cell_type": "markdown",
      "source": [
        "## Implementación de la Parte Adicional"
      ],
      "metadata": {
        "id": "MOFiBugGO1Pu"
      }
    },
    {
      "cell_type": "code",
      "source": [
        "import xgboost as xgb\n",
        "from sklearn.model_selection import GridSearchCV\n",
        "from sklearn.metrics import balanced_accuracy_score, f1_score, confusion_matrix\n",
        "import warnings\n",
        "warnings.filterwarnings(\"ignore\", category=UserWarning, module=\"xgboost\") #nos permite filtrar que \"el parámetro use_label_encoder se ha marcado como obsoleto a partir de la versión 1.7.0 de XGBoost y ya no se recomienda su uso.\"\"\n",
        "\n",
        "# El resto del código de la celda 3\n",
        "\n",
        "\n",
        "xgb_clf = xgb.XGBClassifier(use_label_encoder=False, objective=\"binary:logistic\", eval_metric=\"logloss\", random_state=42)\n",
        "\n",
        "# Ajustar hiperparámetros\n",
        "param_grid = {\n",
        "    'max_depth': [3, 5, 7],\n",
        "    'n_estimators': [50, 100, 150],\n",
        "    'learning_rate': [0.01, 0.1, 0.2]\n",
        "}\n",
        "\n",
        "grid_search = GridSearchCV(xgb_clf, param_grid, scoring='balanced_accuracy', cv=5)\n",
        "grid_search.fit(X_train_processed, y_train)\n",
        "best_xgb = grid_search.best_estimator_\n",
        "\n",
        "y_pred_xgb = best_xgb.predict(X_test_processed)\n",
        "\n",
        "balanced_acc_xgb = balanced_accuracy_score(y_test, y_pred_xgb)\n",
        "f1_xgb = f1_score(y_test, y_pred_xgb)\n",
        "conf_matrix_xgb = confusion_matrix(y_test, y_pred_xgb)\n",
        "\n",
        "print(\"Balanced Accuracy (XGBoost):\", balanced_acc_xgb)\n",
        "print(\"F1 Score (XGBoost):\", f1_xgb)\n",
        "print(\"Confusion Matrix (XGBoost):\\n\", conf_matrix_xgb)\n",
        "\n",
        "\n"
      ],
      "metadata": {
        "colab": {
          "base_uri": "https://localhost:8080/",
          "height": 240
        },
        "id": "Td6GqU4BOpg3",
        "outputId": "dc2e67b7-41be-48ba-8305-c7909682a442"
      },
      "execution_count": null,
      "outputs": [
        {
          "output_type": "error",
          "ename": "NameError",
          "evalue": "ignored",
          "traceback": [
            "\u001b[0;31m---------------------------------------------------------------------------\u001b[0m",
            "\u001b[0;31mNameError\u001b[0m                                 Traceback (most recent call last)",
            "\u001b[0;32m<ipython-input-6-79b17f792906>\u001b[0m in \u001b[0;36m<cell line: 20>\u001b[0;34m()\u001b[0m\n\u001b[1;32m     18\u001b[0m \u001b[0;34m\u001b[0m\u001b[0m\n\u001b[1;32m     19\u001b[0m \u001b[0mgrid_search\u001b[0m \u001b[0;34m=\u001b[0m \u001b[0mGridSearchCV\u001b[0m\u001b[0;34m(\u001b[0m\u001b[0mxgb_clf\u001b[0m\u001b[0;34m,\u001b[0m \u001b[0mparam_grid\u001b[0m\u001b[0;34m,\u001b[0m \u001b[0mscoring\u001b[0m\u001b[0;34m=\u001b[0m\u001b[0;34m'balanced_accuracy'\u001b[0m\u001b[0;34m,\u001b[0m \u001b[0mcv\u001b[0m\u001b[0;34m=\u001b[0m\u001b[0;36m5\u001b[0m\u001b[0;34m)\u001b[0m\u001b[0;34m\u001b[0m\u001b[0;34m\u001b[0m\u001b[0m\n\u001b[0;32m---> 20\u001b[0;31m \u001b[0mgrid_search\u001b[0m\u001b[0;34m.\u001b[0m\u001b[0mfit\u001b[0m\u001b[0;34m(\u001b[0m\u001b[0mX_train_processed\u001b[0m\u001b[0;34m,\u001b[0m \u001b[0my_train\u001b[0m\u001b[0;34m)\u001b[0m\u001b[0;34m\u001b[0m\u001b[0;34m\u001b[0m\u001b[0m\n\u001b[0m\u001b[1;32m     21\u001b[0m \u001b[0mbest_xgb\u001b[0m \u001b[0;34m=\u001b[0m \u001b[0mgrid_search\u001b[0m\u001b[0;34m.\u001b[0m\u001b[0mbest_estimator_\u001b[0m\u001b[0;34m\u001b[0m\u001b[0;34m\u001b[0m\u001b[0m\n\u001b[1;32m     22\u001b[0m \u001b[0;34m\u001b[0m\u001b[0m\n",
            "\u001b[0;31mNameError\u001b[0m: name 'X_train_processed' is not defined"
          ]
        }
      ]
    },
    {
      "cell_type": "markdown",
      "source": [
        "* **Balanced Accuracy:** Se trata de una media de la recuperación (sensibilidad) obtenida en cada clase, y resulta útil cuando se trabaja con conjuntos de datos desequilibrados. Su modelo tiene una precisión equilibrada del 81,35%, lo que significa que clasifica correctamente el 81,35% de las instancias de media en ambas clases.\n",
        "\n",
        "* **Puntuación F1:** Es la media armónica de la precisión y la recuperación, y da más peso al valor más bajo. Es una buena métrica cuando los falsos positivos y los falsos negativos tienen la misma importancia. Una puntuación F1 del 75,95% indica que el modelo tiene un rendimiento razonablemente bueno en términos de precisión y recuperación.\n",
        "\n",
        "* **Matriz de confusión:** La matriz de confusión es una tabla que muestra el número de predicciones positivas verdaderas (TP), negativas verdaderas (TN), positivas falsas (FP) y negativas falsas (FN) para un problema de clasificación binaria. \n",
        "\n",
        "A partir de la **matriz de confusión**, podemos ver que el modelo tiene un número relativamente bajo de falsos positivos (5) y un número más alto de falsos negativos (52). Esto podría indicar que el modelo es más conservador a la hora de predecir la clase positiva, lo que podría dar lugar a una menor recuperación de la clase positiva.\n",
        "\n",
        "En general, su modelo muestra un rendimiento razonablemente bueno, pero puede que desee considerar métodos para mejorar la recuperación de la clase positiva, como utilizar técnicas para manejar datos desequilibrados o ajustar el umbral de decisión."
      ],
      "metadata": {
        "id": "JK8TcxJOpvcY"
      }
    },
    {
      "cell_type": "markdown",
      "source": [
        "## Método de Selección de Atributos"
      ],
      "metadata": {
        "id": "apvtayZmvO4E"
      }
    },
    {
      "cell_type": "code",
      "source": [
        "from sklearn.feature_selection import SelectKBest, f_classif, mutual_info_classif, chi2\n",
        "from sklearn.model_selection import train_test_split\n",
        "from sklearn.preprocessing import StandardScaler\n",
        "from sklearn.pipeline import Pipeline\n",
        "from sklearn.linear_model import LogisticRegression\n",
        "from sklearn.metrics import classification_report, confusion_matrix, accuracy_score\n"
      ],
      "metadata": {
        "id": "nsPOIah3vKNc"
      },
      "execution_count": null,
      "outputs": []
    },
    {
      "cell_type": "markdown",
      "source": [
        "## Importante\n",
        "* Necesitamos one hot encoding para eliminar las categoricas (tocará analizar el impacto ya que se agranda el espacio\n",
        "* chi2 test solo acepta positivos usar MinMaxScaler en lugar de StandardScaler"
      ],
      "metadata": {
        "id": "MSVsLHda1WpW"
      }
    },
    {
      "cell_type": "code",
      "source": [
        "# Crear un objeto SelectKBest para cada método de selección\n",
        "kbest_f_classif = SelectKBest(score_func=f_classif, k='all')\n",
        "kbest_mutual_info = SelectKBest(score_func=mutual_info_classif, k='all')\n",
        "kbest_chi2 = SelectKBest(score_func=chi2, k='all')\n",
        "\n",
        "\n",
        "# Ajustar y transformar los datos de entrenamiento y prueba\n",
        "X_train_f_classif = kbest_f_classif.fit_transform(X_train_processed, y_train)\n",
        "X_test_f_classif = kbest_f_classif.transform(X_test_processed)\n",
        "\n",
        "X_train_mutual_info = kbest_mutual_info.fit_transform(X_train_processed, y_train)\n",
        "X_test_mutual_info = kbest_mutual_info.transform(X_test_processed)\n",
        "\n",
        "X_train_chi2 = kbest_chi2.fit_transform(X_train_processed, y_train)\n",
        "X_test_chi2 = kbest_chi2.transform(X_test_processed)\n",
        "\n"
      ],
      "metadata": {
        "id": "a1XuWVFhvV0a"
      },
      "execution_count": null,
      "outputs": []
    },
    {
      "cell_type": "code",
      "source": [
        "# Crear y ajustar el modelo de clasificación\n",
        "classifier = LogisticRegression()\n",
        "\n",
        "# Para f_classif\n",
        "classifier.fit(X_train_f_classif, y_train)\n",
        "y_pred_f_classif = classifier.predict(X_test_f_classif)\n",
        "print(\"Resultados con f_classif:\")\n",
        "print(classification_report(y_test, y_pred_f_classif))\n",
        "\n",
        "# Para mutual_info_classif\n",
        "classifier.fit(X_train_mutual_info, y_train)\n",
        "y_pred_mutual_info = classifier.predict(X_test_mutual_info)\n",
        "print(\"Resultados con mutual_info_classif:\")\n",
        "print(classification_report(y_test, y_pred_mutual_info))\n",
        "\n",
        "# Para chi2\n",
        "classifier.fit(X_train_chi2, y_train)\n",
        "y_pred_chi2 = classifier.predict(X_test_chi2)\n",
        "print(\"Resultados con chi2:\")\n",
        "print(classification_report(y_test, y_pred_chi2))"
      ],
      "metadata": {
        "colab": {
          "base_uri": "https://localhost:8080/"
        },
        "id": "7KakOYN33bWe",
        "outputId": "ad1e89ae-aa75-49be-9c5e-54aa901ace9b"
      },
      "execution_count": null,
      "outputs": [
        {
          "output_type": "stream",
          "name": "stdout",
          "text": [
            "Resultados con f_classif:\n",
            "              precision    recall  f1-score   support\n",
            "\n",
            "           0       0.86      0.98      0.92       740\n",
            "           1       0.63      0.17      0.27       142\n",
            "\n",
            "    accuracy                           0.85       882\n",
            "   macro avg       0.75      0.58      0.59       882\n",
            "weighted avg       0.82      0.85      0.81       882\n",
            "\n",
            "Resultados con mutual_info_classif:\n",
            "              precision    recall  f1-score   support\n",
            "\n",
            "           0       0.86      0.98      0.92       740\n",
            "           1       0.63      0.17      0.27       142\n",
            "\n",
            "    accuracy                           0.85       882\n",
            "   macro avg       0.75      0.58      0.59       882\n",
            "weighted avg       0.82      0.85      0.81       882\n",
            "\n",
            "Resultados con chi2:\n",
            "              precision    recall  f1-score   support\n",
            "\n",
            "           0       0.86      0.98      0.92       740\n",
            "           1       0.63      0.17      0.27       142\n",
            "\n",
            "    accuracy                           0.85       882\n",
            "   macro avg       0.75      0.58      0.59       882\n",
            "weighted avg       0.82      0.85      0.81       882\n",
            "\n"
          ]
        }
      ]
    },
    {
      "cell_type": "code",
      "source": [
        "# Imprimir los resultados de cada método de selección\n",
        "print(\"Importancia de los atributos según f_classif:\")\n",
        "for i, score in enumerate(kbest_f_classif.scores_):\n",
        "    print(f\"Atributo {i}: {score}\")\n",
        "\n",
        "print(\"Importancia de los atributos según mutual_info_classif:\")\n",
        "for i, score in enumerate(kbest_mutual_info.scores_):\n",
        "    print(f\"Atributo {i}: {score}\")\n",
        "\n",
        "print(\"Importancia de los atributos según chi2:\")\n",
        "for i, score in enumerate(kbest_chi2.scores_):\n",
        "    print(f\"Atributo {i}: {score}\")"
      ],
      "metadata": {
        "colab": {
          "base_uri": "https://localhost:8080/"
        },
        "id": "JxVq2W9f3dOw",
        "outputId": "af53ae60-4e7a-4b3b-f4c0-d7bce7b18556"
      },
      "execution_count": null,
      "outputs": [
        {
          "output_type": "stream",
          "name": "stdout",
          "text": [
            "Importancia de los atributos según f_classif:\n",
            "Atributo 0: 113.0737368969395\n",
            "Atributo 1: 2.3174745782517574\n",
            "Atributo 2: 0.32249959120758465\n",
            "Atributo 3: 2.3976941378156638\n",
            "Atributo 4: 36.706412668522944\n",
            "Atributo 5: 28.1627799032299\n",
            "Atributo 6: 13.203854530035821\n",
            "Atributo 7: 78.36247954309822\n",
            "Atributo 8: 0.23274098855794836\n",
            "Atributo 9: 0.08296141215829432\n",
            "Atributo 10: 0.04386979950975095\n",
            "Atributo 11: 0.7514586086810724\n",
            "Atributo 12: 4.278485000699727\n",
            "Atributo 13: 3.9467056684591846\n",
            "Atributo 14: 3.0596455214161655\n",
            "Atributo 15: 0.5194550476964118\n",
            "Atributo 16: 99.17510586391975\n",
            "Atributo 17: 4.238218974750357\n",
            "Atributo 18: 65.15578780804957\n",
            "Atributo 19: 6.379768495252653\n",
            "Atributo 20: 82.46235154445615\n",
            "Atributo 21: 11.611449990037835\n",
            "Atributo 22: 44.41915917837392\n",
            "Atributo 23: 6.542138868411917\n",
            "Atributo 24: 0.202187693997351\n",
            "Atributo 25: 8.528182115986413\n",
            "Atributo 26: 0.13147966186272092\n",
            "Atributo 27: 1.667020813015562\n",
            "Atributo 28: 0.21538627665592472\n",
            "Atributo 29: 28.103745801175243\n",
            "Atributo 30: 0.00018279521315450655\n",
            "Atributo 31: 0.040388006519970016\n",
            "Atributo 32: 0.004109679087482352\n",
            "Atributo 33: 0.05539334297137575\n",
            "Atributo 34: 2.953339979589828\n",
            "Atributo 35: 0.2388272390097854\n",
            "Atributo 36: 2.9744565027192493\n",
            "Atributo 37: 1.7204769960955795\n",
            "Atributo 38: 0.12827302178573902\n",
            "Atributo 39: 0.0012068394390457827\n",
            "Atributo 40: 0.7442165121752405\n",
            "Atributo 41: 0.6896967558270691\n",
            "Atributo 42: 0.6599253710343318\n",
            "Atributo 43: 5.362962916175088\n",
            "Atributo 44: 2.0807665294505497\n",
            "Atributo 45: 2.4323328450682777\n",
            "Atributo 46: 2.3049083290012513\n",
            "Atributo 47: 0.19889524102680606\n",
            "Atributo 48: 0.6023026496764813\n",
            "Atributo 49: 26.676196270533495\n",
            "Atributo 50: 36.35989887411164\n",
            "Atributo 51: 124.5179424472822\n",
            "Importancia de los atributos según mutual_info_classif:\n",
            "Atributo 0: 0.017066856062453395\n",
            "Atributo 1: 0.0\n",
            "Atributo 2: 0.0\n",
            "Atributo 3: 0.0039502174379442145\n",
            "Atributo 4: 0.0\n",
            "Atributo 5: 0.0014533158411609293\n",
            "Atributo 6: 0.0\n",
            "Atributo 7: 0.026805376249506185\n",
            "Atributo 8: 0.0\n",
            "Atributo 9: 0.004123428867652823\n",
            "Atributo 10: 0.0\n",
            "Atributo 11: 0.0\n",
            "Atributo 12: 0.07913869463486889\n",
            "Atributo 13: 0.01821192025307483\n",
            "Atributo 14: 0.0\n",
            "Atributo 15: 0.0\n",
            "Atributo 16: 0.03768965341099095\n",
            "Atributo 17: 0.0016868101992366658\n",
            "Atributo 18: 0.023535001909423814\n",
            "Atributo 19: 0.011090794224727363\n",
            "Atributo 20: 0.011498994461566436\n",
            "Atributo 21: 0.005595998498802768\n",
            "Atributo 22: 0.0\n",
            "Atributo 23: 0.0017504750876666808\n",
            "Atributo 24: 0.004130767868267382\n",
            "Atributo 25: 0.011699319301949673\n",
            "Atributo 26: 0.0\n",
            "Atributo 27: 0.0\n",
            "Atributo 28: 0.0051472752772554475\n",
            "Atributo 29: 0.010796956785910972\n",
            "Atributo 30: 0.005452698963162916\n",
            "Atributo 31: 0.0\n",
            "Atributo 32: 0.006318809823955052\n",
            "Atributo 33: 0.0\n",
            "Atributo 34: 0.0\n",
            "Atributo 35: 0.0\n",
            "Atributo 36: 0.0\n",
            "Atributo 37: 0.011530763723618609\n",
            "Atributo 38: 0.0\n",
            "Atributo 39: 0.007731080101701648\n",
            "Atributo 40: 0.0\n",
            "Atributo 41: 0.0007200732072525362\n",
            "Atributo 42: 0.0\n",
            "Atributo 43: 0.0\n",
            "Atributo 44: 0.002443192735219535\n",
            "Atributo 45: 0.0\n",
            "Atributo 46: 0.0\n",
            "Atributo 47: 0.0\n",
            "Atributo 48: 0.0061829302771798655\n",
            "Atributo 49: 0.0\n",
            "Atributo 50: 0.0\n",
            "Atributo 51: 0.015241327897500767\n",
            "Importancia de los atributos según chi2:\n",
            "Atributo 0: 15.340989354524552\n",
            "Atributo 1: 0.20606844799322835\n",
            "Atributo 2: 0.02584031437875589\n",
            "Atributo 3: 2.0950277343076196\n",
            "Atributo 4: 6.642774337116502\n",
            "Atributo 5: 5.345219569431472\n",
            "Atributo 6: 1.0295098420783881\n",
            "Atributo 7: 6.893671050800048\n",
            "Atributo 8: 0.059499911455679184\n",
            "Atributo 9: 0.009435272726504254\n",
            "Atributo 10: 0.005889376351146948\n",
            "Atributo 11: 0.17753264616692144\n",
            "Atributo 12: 0.8021942548462342\n",
            "Atributo 13: 0.8611406706722847\n",
            "Atributo 14: 0.6204419315270373\n",
            "Atributo 15: 0.12827021652398365\n",
            "Atributo 16: 10.64342623485779\n",
            "Atributo 17: 0.32914688012941995\n",
            "Atributo 18: 7.829706645116721\n",
            "Atributo 19: 1.9814177909588961\n",
            "Atributo 20: 12.50651978310738\n",
            "Atributo 21: 10.611628311497583\n",
            "Atributo 22: 37.18579272208277\n",
            "Atributo 23: 2.794612821121271\n",
            "Atributo 24: 0.16358718538241754\n",
            "Atributo 25: 8.186700014432752\n",
            "Atributo 26: 0.0608154658257826\n",
            "Atributo 27: 1.256526853485958\n",
            "Atributo 28: 0.177197227092399\n",
            "Atributo 29: 27.383351379218386\n",
            "Atributo 30: 0.00012058469760580636\n",
            "Atributo 31: 0.036985643583808354\n",
            "Atributo 32: 0.0030035821511672223\n",
            "Atributo 33: 0.05278465923568211\n",
            "Atributo 34: 2.7240716176826614\n",
            "Atributo 35: 0.2003412155562703\n",
            "Atributo 36: 2.035524071541648\n",
            "Atributo 37: 0.9081014744846588\n",
            "Atributo 38: 0.10109408959107186\n",
            "Atributo 39: 0.0011209296114513493\n",
            "Atributo 40: 0.7233794250777019\n",
            "Atributo 41: 0.5925616796052492\n",
            "Atributo 42: 0.6229383061203884\n",
            "Atributo 43: 4.905293055727353\n",
            "Atributo 44: 1.9875347726651151\n",
            "Atributo 45: 2.0328998499802293\n",
            "Atributo 46: 1.8866213173476334\n",
            "Atributo 47: 0.1899156276865303\n",
            "Atributo 48: 0.49289522826558996\n",
            "Atributo 49: 20.641583836061\n",
            "Atributo 50: 19.535602359279974\n",
            "Atributo 51: 81.62442726595351\n"
          ]
        }
      ]
    },
    {
      "cell_type": "markdown",
      "source": [
        "## Importancia de los atributos\n",
        "\n",
        "**f_classif:** Este método evalúa la importancia de las características basándose en la relación entre la variación de cada característica y la variación de la variable objetivo (en este caso, la clase). Los valores más altos indican una mayor importancia. Algunas de las características con valores más altos en tus resultados son:\n",
        "\n",
        "* Atributo 0\n",
        "* Atributo 7\n",
        "* Atributo 16\n",
        "* Atributo 18\n",
        "* Atributo 20\n",
        "* Atributo 22\n",
        "* Atributo 29\n",
        "* Atributo 51\n",
        "\n",
        "**mutual_info_classif:** Este método mide la dependencia mutua entre cada característica y la variable objetivo. Los valores más altos indican una mayor dependencia, y por lo tanto, una mayor importancia. Algunas de las características con valores más altos en tus resultados son:\n",
        "\n",
        "* Atributo 0\n",
        "\n",
        "\n",
        "\n",
        "\n",
        "* Atributo 7\n",
        "* Atributo 12\n",
        "* Atributo 13\n",
        "* Atributo 16\n",
        "* Atributo 18\n",
        "* Atributo 20\n",
        "* Atributo 25\n",
        "* Atributo 29\n",
        "* Atributo 37\n",
        "* Atributo 51\n",
        "\n",
        "**chi2:** Este método evalúa la importancia de las características basándose en la prueba estadística chi-cuadrado. Los valores más altos indican una mayor dependencia entre la característica y la variable objetivo. Algunas de las características con valores más altos en tus resultados son:\n",
        "\n",
        "* Atributo 0\n",
        "* Atributo 7\n",
        "* Atributo 16\n",
        "* Atributo 18\n",
        "* Atributo 20\n",
        "* Atributo 21\n",
        "* Atributo 22\n",
        "* Atributo 29\n",
        "* Atributo 43\n",
        "* Atributo 49\n",
        "* Atributo 50\n",
        "* Atributo 51\n",
        "\n",
        "A partir de estos resultados, puedes ver que algunos atributos parecen ser más importantes en los tres métodos, como los atributos 0, 7, 16, 18, 20, 29 y 51. Estos podrían ser buenos candidatos para probar en tu modelo."
      ],
      "metadata": {
        "id": "oHl3Npzl4OeH"
      }
    }
  ]
}